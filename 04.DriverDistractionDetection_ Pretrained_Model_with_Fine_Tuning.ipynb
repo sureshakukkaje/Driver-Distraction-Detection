{
  "nbformat": 4,
  "nbformat_minor": 0,
  "metadata": {
    "colab": {
      "name": "DriverDistractionDetection_Pretrained_Finetuning",
      "provenance": [],
      "collapsed_sections": []
    },
    "kernelspec": {
      "name": "python3",
      "display_name": "Python 3"
    },
    "accelerator": "GPU"
  },
  "cells": [
    {
      "cell_type": "code",
      "metadata": {
        "colab": {
          "base_uri": "https://localhost:8080/"
        },
        "id": "R41Yi1siRj_r",
        "outputId": "235b7ea3-46fa-4b05-8151-235239579447"
      },
      "source": [
        "from google.colab import drive\r\n",
        "drive.mount('/content/drive')"
      ],
      "execution_count": 20,
      "outputs": [
        {
          "output_type": "stream",
          "text": [
            "Drive already mounted at /content/drive; to attempt to forcibly remount, call drive.mount(\"/content/drive\", force_remount=True).\n"
          ],
          "name": "stdout"
        }
      ]
    },
    {
      "cell_type": "code",
      "metadata": {
        "id": "yvKHqMIqQri_"
      },
      "source": [
        "#This method allows Data Augmentation but should only be run on GPU\r\n",
        "from keras.applications import VGG16\r\n",
        "#Just reuse the bottom convolutional base of VGG16 model as its more generic, top will be related to specific classes so not used\r\n",
        "conv_base = VGG16(weights='imagenet',include_top=False,input_shape=(150, 150, 3))"
      ],
      "execution_count": 21,
      "outputs": []
    },
    {
      "cell_type": "code",
      "metadata": {
        "colab": {
          "base_uri": "https://localhost:8080/"
        },
        "id": "OJ1S7m8wRC03",
        "outputId": "100d5e15-bacf-4b08-f124-de46f78ee1f5"
      },
      "source": [
        "conv_base.summary()"
      ],
      "execution_count": 22,
      "outputs": [
        {
          "output_type": "stream",
          "text": [
            "Model: \"vgg16\"\n",
            "_________________________________________________________________\n",
            "Layer (type)                 Output Shape              Param #   \n",
            "=================================================================\n",
            "input_4 (InputLayer)         [(None, 150, 150, 3)]     0         \n",
            "_________________________________________________________________\n",
            "block1_conv1 (Conv2D)        (None, 150, 150, 64)      1792      \n",
            "_________________________________________________________________\n",
            "block1_conv2 (Conv2D)        (None, 150, 150, 64)      36928     \n",
            "_________________________________________________________________\n",
            "block1_pool (MaxPooling2D)   (None, 75, 75, 64)        0         \n",
            "_________________________________________________________________\n",
            "block2_conv1 (Conv2D)        (None, 75, 75, 128)       73856     \n",
            "_________________________________________________________________\n",
            "block2_conv2 (Conv2D)        (None, 75, 75, 128)       147584    \n",
            "_________________________________________________________________\n",
            "block2_pool (MaxPooling2D)   (None, 37, 37, 128)       0         \n",
            "_________________________________________________________________\n",
            "block3_conv1 (Conv2D)        (None, 37, 37, 256)       295168    \n",
            "_________________________________________________________________\n",
            "block3_conv2 (Conv2D)        (None, 37, 37, 256)       590080    \n",
            "_________________________________________________________________\n",
            "block3_conv3 (Conv2D)        (None, 37, 37, 256)       590080    \n",
            "_________________________________________________________________\n",
            "block3_pool (MaxPooling2D)   (None, 18, 18, 256)       0         \n",
            "_________________________________________________________________\n",
            "block4_conv1 (Conv2D)        (None, 18, 18, 512)       1180160   \n",
            "_________________________________________________________________\n",
            "block4_conv2 (Conv2D)        (None, 18, 18, 512)       2359808   \n",
            "_________________________________________________________________\n",
            "block4_conv3 (Conv2D)        (None, 18, 18, 512)       2359808   \n",
            "_________________________________________________________________\n",
            "block4_pool (MaxPooling2D)   (None, 9, 9, 512)         0         \n",
            "_________________________________________________________________\n",
            "block5_conv1 (Conv2D)        (None, 9, 9, 512)         2359808   \n",
            "_________________________________________________________________\n",
            "block5_conv2 (Conv2D)        (None, 9, 9, 512)         2359808   \n",
            "_________________________________________________________________\n",
            "block5_conv3 (Conv2D)        (None, 9, 9, 512)         2359808   \n",
            "_________________________________________________________________\n",
            "block5_pool (MaxPooling2D)   (None, 4, 4, 512)         0         \n",
            "=================================================================\n",
            "Total params: 14,714,688\n",
            "Trainable params: 14,714,688\n",
            "Non-trainable params: 0\n",
            "_________________________________________________________________\n"
          ],
          "name": "stdout"
        }
      ]
    },
    {
      "cell_type": "code",
      "metadata": {
        "id": "x4JG9rGXRC4B"
      },
      "source": [
        "#Adding a sequential model to top of conv_base\r\n",
        "from keras import models\r\n",
        "from keras import layers\r\n",
        "model = models.Sequential()\r\n",
        "model.add(conv_base)\r\n",
        "model.add(layers.Flatten())\r\n",
        "model.add(layers.Dense(256, activation='relu'))\r\n",
        "model.add(layers.Dense(1, activation='softmax'))"
      ],
      "execution_count": 23,
      "outputs": []
    },
    {
      "cell_type": "code",
      "metadata": {
        "colab": {
          "base_uri": "https://localhost:8080/"
        },
        "id": "6yWXAv6BRC6t",
        "outputId": "c10db1e9-2c73-47d4-b451-b04bb96d0906"
      },
      "source": [
        "#freeze the conv base. Freezing a layer means preventing their weights from being updated during training\r\n",
        "print('This is the number of trainable weights ''before freezing the conv base:', len(model.trainable_weights))\r\n",
        "conv_base.trainable = False\r\n",
        "print('This is the number of trainable weights '\r\n",
        "'after freezing the conv base:', len(model.trainable_weights))"
      ],
      "execution_count": 24,
      "outputs": [
        {
          "output_type": "stream",
          "text": [
            "This is the number of trainable weights before freezing the conv base: 30\n",
            "This is the number of trainable weights after freezing the conv base: 4\n"
          ],
          "name": "stdout"
        }
      ]
    },
    {
      "cell_type": "code",
      "metadata": {
        "id": "EJfp_mcpRC9z"
      },
      "source": [
        "train_dir=\"/content/drive/MyDrive/Driver_Distraction_Detection/train/\"\r\n",
        "validation_dir=\"/content/drive/MyDrive/Driver_Distraction_Detection/validation/\"\r\n",
        "from keras.preprocessing.image import ImageDataGenerator\r\n",
        "train_datagen = ImageDataGenerator(\r\n",
        "rescale=1./255,\r\n",
        "rotation_range=40,\r\n",
        "width_shift_range=0.2,\r\n",
        "height_shift_range=0.2,\r\n",
        "shear_range=0.2,\r\n",
        "zoom_range=0.2,\r\n",
        "horizontal_flip=True,)"
      ],
      "execution_count": 25,
      "outputs": []
    },
    {
      "cell_type": "code",
      "metadata": {
        "colab": {
          "base_uri": "https://localhost:8080/"
        },
        "id": "dIe6RCG5RDAV",
        "outputId": "e1d51fef-d40c-4bf8-bd2f-67abaa0ac35a"
      },
      "source": [
        "#Validation Data Set should not be augmented\r\n",
        "test_datagen = ImageDataGenerator(rescale=1./255)\r\n",
        "#Resize all images to 150x150\r\n",
        "train_generator = train_datagen.flow_from_directory(train_dir,target_size=(150, 150),batch_size=32,class_mode='categorical')\r\n",
        "validation_generator = test_datagen.flow_from_directory(\r\n",
        "validation_dir,target_size=(150, 150),batch_size=32,class_mode='categorical')\r\n",
        "from keras import optimizers\r\n",
        "model.compile(loss='categorical_crossentropy',\r\n",
        "optimizer=optimizers.RMSprop(lr=2e-5),\r\n",
        "metrics=['acc'])\r\n",
        "history = model.fit_generator(\r\n",
        "train_generator,\r\n",
        "steps_per_epoch=100,\r\n",
        "epochs=30,\r\n",
        "validation_data=validation_generator,\r\n",
        "validation_steps=150)"
      ],
      "execution_count": 27,
      "outputs": [
        {
          "output_type": "stream",
          "text": [
            "Found 10000 images belonging to 10 classes.\n",
            "Found 4900 images belonging to 10 classes.\n"
          ],
          "name": "stdout"
        },
        {
          "output_type": "stream",
          "text": [
            "/usr/local/lib/python3.7/dist-packages/tensorflow/python/keras/engine/training.py:1844: UserWarning: `Model.fit_generator` is deprecated and will be removed in a future version. Please use `Model.fit`, which supports generators.\n",
            "  warnings.warn('`Model.fit_generator` is deprecated and '\n"
          ],
          "name": "stderr"
        },
        {
          "output_type": "stream",
          "text": [
            "Epoch 1/30\n",
            "100/100 [==============================] - 74s 732ms/step - loss: 2.3021 - acc: 0.9000 - val_loss: 2.3014 - val_acc: 0.9000\n",
            "Epoch 2/30\n",
            "100/100 [==============================] - 73s 737ms/step - loss: 2.2988 - acc: 0.9000 - val_loss: 2.2975 - val_acc: 0.9000\n",
            "Epoch 3/30\n",
            "100/100 [==============================] - 74s 741ms/step - loss: 2.2888 - acc: 0.9000 - val_loss: 2.2907 - val_acc: 0.9000\n",
            "Epoch 4/30\n",
            "100/100 [==============================] - 74s 739ms/step - loss: 2.2741 - acc: 0.9000 - val_loss: 2.2810 - val_acc: 0.9000\n",
            "Epoch 5/30\n",
            "100/100 [==============================] - 73s 737ms/step - loss: 2.2541 - acc: 0.9000 - val_loss: 2.2654 - val_acc: 0.9000\n",
            "Epoch 6/30\n",
            "100/100 [==============================] - 73s 733ms/step - loss: 2.2266 - acc: 0.9000 - val_loss: 2.2554 - val_acc: 0.9000\n",
            "Epoch 7/30\n",
            "100/100 [==============================] - 74s 740ms/step - loss: 2.1927 - acc: 0.9000 - val_loss: 2.2433 - val_acc: 0.9000\n",
            "Epoch 8/30\n",
            "100/100 [==============================] - 73s 737ms/step - loss: 2.1591 - acc: 0.9000 - val_loss: 2.2221 - val_acc: 0.9000\n",
            "Epoch 9/30\n",
            "100/100 [==============================] - 74s 740ms/step - loss: 2.1157 - acc: 0.9000 - val_loss: 2.2111 - val_acc: 0.9000\n",
            "Epoch 10/30\n",
            "100/100 [==============================] - 73s 737ms/step - loss: 2.0794 - acc: 0.9000 - val_loss: 2.2277 - val_acc: 0.9000\n",
            "Epoch 11/30\n",
            "100/100 [==============================] - 74s 739ms/step - loss: 2.0488 - acc: 0.9000 - val_loss: 2.2054 - val_acc: 0.9000\n",
            "Epoch 12/30\n",
            "100/100 [==============================] - 74s 742ms/step - loss: 1.9987 - acc: 0.9000 - val_loss: 2.2102 - val_acc: 0.9000\n",
            "Epoch 13/30\n",
            "100/100 [==============================] - 74s 739ms/step - loss: 1.9748 - acc: 0.9000 - val_loss: 2.2206 - val_acc: 0.9000\n",
            "Epoch 14/30\n",
            "100/100 [==============================] - 74s 738ms/step - loss: 1.9322 - acc: 0.9000 - val_loss: 2.2298 - val_acc: 0.9000\n",
            "Epoch 15/30\n",
            "100/100 [==============================] - 74s 748ms/step - loss: 1.9058 - acc: 0.9000 - val_loss: 2.1892 - val_acc: 0.9000\n",
            "Epoch 16/30\n",
            "100/100 [==============================] - 74s 740ms/step - loss: 1.8515 - acc: 0.9000 - val_loss: 2.1919 - val_acc: 0.9000\n",
            "Epoch 17/30\n",
            "100/100 [==============================] - 74s 739ms/step - loss: 1.8474 - acc: 0.9001 - val_loss: 2.1869 - val_acc: 0.9003\n",
            "Epoch 18/30\n",
            "100/100 [==============================] - 74s 744ms/step - loss: 1.7894 - acc: 0.9003 - val_loss: 2.1813 - val_acc: 0.9007\n",
            "Epoch 19/30\n",
            "100/100 [==============================] - 74s 744ms/step - loss: 1.7942 - acc: 0.9008 - val_loss: 2.2237 - val_acc: 0.9004\n",
            "Epoch 20/30\n",
            "100/100 [==============================] - 74s 746ms/step - loss: 1.7315 - acc: 0.9004 - val_loss: 2.2248 - val_acc: 0.9004\n",
            "Epoch 21/30\n",
            "100/100 [==============================] - 74s 743ms/step - loss: 1.7073 - acc: 0.9010 - val_loss: 2.2388 - val_acc: 0.8998\n",
            "Epoch 22/30\n",
            "100/100 [==============================] - 74s 743ms/step - loss: 1.7019 - acc: 0.9011 - val_loss: 2.1989 - val_acc: 0.9005\n",
            "Epoch 23/30\n",
            "100/100 [==============================] - 74s 745ms/step - loss: 1.6640 - acc: 0.9019 - val_loss: 2.2162 - val_acc: 0.9002\n",
            "Epoch 24/30\n",
            "100/100 [==============================] - 75s 754ms/step - loss: 1.6452 - acc: 0.9020 - val_loss: 2.1639 - val_acc: 0.9004\n",
            "Epoch 25/30\n",
            "100/100 [==============================] - 74s 744ms/step - loss: 1.6145 - acc: 0.9036 - val_loss: 2.2302 - val_acc: 0.8957\n",
            "Epoch 26/30\n",
            "100/100 [==============================] - 74s 748ms/step - loss: 1.5604 - acc: 0.9044 - val_loss: 2.1805 - val_acc: 0.8982\n",
            "Epoch 27/30\n",
            "100/100 [==============================] - 74s 745ms/step - loss: 1.5410 - acc: 0.9042 - val_loss: 2.2081 - val_acc: 0.8977\n",
            "Epoch 28/30\n",
            "100/100 [==============================] - 73s 730ms/step - loss: 1.5407 - acc: 0.9048 - val_loss: 2.2614 - val_acc: 0.8959\n",
            "Epoch 29/30\n",
            "100/100 [==============================] - 72s 723ms/step - loss: 1.5480 - acc: 0.9050 - val_loss: 2.1958 - val_acc: 0.8964\n",
            "Epoch 30/30\n",
            "100/100 [==============================] - 71s 715ms/step - loss: 1.5155 - acc: 0.9075 - val_loss: 2.2016 - val_acc: 0.8977\n"
          ],
          "name": "stdout"
        }
      ]
    },
    {
      "cell_type": "code",
      "metadata": {
        "id": "L0yf8He5R3GT"
      },
      "source": [
        "#Freezing all the layers except a specific one\r\n",
        "conv_base.trainable = True\r\n",
        "set_trainable = False\r\n",
        "for layer in conv_base.layers:\r\n",
        "    if layer.name == 'block5_conv1':\r\n",
        "        set_trainable = True\r\n",
        "    if set_trainable:\r\n",
        "        layer.trainable = True\r\n",
        "    else:\r\n",
        "        layer.trainable = False"
      ],
      "execution_count": 28,
      "outputs": []
    },
    {
      "cell_type": "code",
      "metadata": {
        "colab": {
          "base_uri": "https://localhost:8080/"
        },
        "id": "0rPEHMqRR3Ja",
        "outputId": "952fb304-1e4e-45e8-f86b-ae47fe935d2e"
      },
      "source": [
        "#Fine Tuning the model\r\n",
        "model.compile(loss='categorical_crossentropy',\r\n",
        "optimizer=optimizers.RMSprop(lr=1e-5),\r\n",
        "metrics=['acc'])\r\n",
        "history = model.fit_generator(\r\n",
        "train_generator,\r\n",
        "steps_per_epoch=100,\r\n",
        "epochs=100,\r\n",
        "validation_data=validation_generator,\r\n",
        "validation_steps=50)"
      ],
      "execution_count": 29,
      "outputs": [
        {
          "output_type": "stream",
          "text": [
            "/usr/local/lib/python3.7/dist-packages/tensorflow/python/keras/engine/training.py:1844: UserWarning: `Model.fit_generator` is deprecated and will be removed in a future version. Please use `Model.fit`, which supports generators.\n",
            "  warnings.warn('`Model.fit_generator` is deprecated and '\n"
          ],
          "name": "stderr"
        },
        {
          "output_type": "stream",
          "text": [
            "Epoch 1/100\n",
            "100/100 [==============================] - 52s 511ms/step - loss: 1.3706 - acc: 0.9137 - val_loss: 2.4518 - val_acc: 0.8903\n",
            "Epoch 2/100\n",
            "100/100 [==============================] - 50s 501ms/step - loss: 1.1633 - acc: 0.9219 - val_loss: 2.0569 - val_acc: 0.8935\n",
            "Epoch 3/100\n",
            "100/100 [==============================] - 50s 500ms/step - loss: 0.9977 - acc: 0.9320 - val_loss: 2.8018 - val_acc: 0.8767\n",
            "Epoch 4/100\n",
            "100/100 [==============================] - 50s 504ms/step - loss: 0.9292 - acc: 0.9389 - val_loss: 2.2994 - val_acc: 0.8745\n",
            "Epoch 5/100\n",
            "100/100 [==============================] - 50s 501ms/step - loss: 0.8257 - acc: 0.9452 - val_loss: 1.9951 - val_acc: 0.8903\n",
            "Epoch 6/100\n",
            "100/100 [==============================] - 50s 499ms/step - loss: 0.7634 - acc: 0.9488 - val_loss: 2.0611 - val_acc: 0.8829\n",
            "Epoch 7/100\n",
            "100/100 [==============================] - 50s 499ms/step - loss: 0.7021 - acc: 0.9531 - val_loss: 2.2922 - val_acc: 0.8754\n",
            "Epoch 8/100\n",
            "100/100 [==============================] - 50s 500ms/step - loss: 0.6618 - acc: 0.9571 - val_loss: 2.4158 - val_acc: 0.8748\n",
            "Epoch 9/100\n",
            "100/100 [==============================] - 51s 511ms/step - loss: 0.6072 - acc: 0.9595 - val_loss: 2.0858 - val_acc: 0.8788\n",
            "Epoch 10/100\n",
            "100/100 [==============================] - 51s 506ms/step - loss: 0.5555 - acc: 0.9631 - val_loss: 2.1272 - val_acc: 0.8837\n",
            "Epoch 11/100\n",
            "100/100 [==============================] - 50s 505ms/step - loss: 0.5216 - acc: 0.9665 - val_loss: 2.9169 - val_acc: 0.8677\n",
            "Epoch 12/100\n",
            "100/100 [==============================] - 51s 509ms/step - loss: 0.5058 - acc: 0.9697 - val_loss: 2.5609 - val_acc: 0.8729\n",
            "Epoch 13/100\n",
            "100/100 [==============================] - 51s 512ms/step - loss: 0.4460 - acc: 0.9727 - val_loss: 2.5289 - val_acc: 0.8762\n",
            "Epoch 14/100\n",
            "100/100 [==============================] - 51s 509ms/step - loss: 0.4315 - acc: 0.9737 - val_loss: 2.1992 - val_acc: 0.8915\n",
            "Epoch 15/100\n",
            "100/100 [==============================] - 51s 511ms/step - loss: 0.4165 - acc: 0.9744 - val_loss: 2.4112 - val_acc: 0.8793\n",
            "Epoch 16/100\n",
            "100/100 [==============================] - 51s 510ms/step - loss: 0.4120 - acc: 0.9745 - val_loss: 3.1148 - val_acc: 0.8716\n",
            "Epoch 17/100\n",
            "100/100 [==============================] - 51s 508ms/step - loss: 0.3551 - acc: 0.9784 - val_loss: 2.7506 - val_acc: 0.8746\n",
            "Epoch 18/100\n",
            "100/100 [==============================] - 50s 501ms/step - loss: 0.3325 - acc: 0.9810 - val_loss: 2.4415 - val_acc: 0.8794\n",
            "Epoch 19/100\n",
            "100/100 [==============================] - 50s 499ms/step - loss: 0.3384 - acc: 0.9788 - val_loss: 2.6878 - val_acc: 0.8755\n",
            "Epoch 20/100\n",
            "100/100 [==============================] - 50s 499ms/step - loss: 0.3123 - acc: 0.9830 - val_loss: 3.6644 - val_acc: 0.8697\n",
            "Epoch 21/100\n",
            "100/100 [==============================] - 50s 499ms/step - loss: 0.2882 - acc: 0.9842 - val_loss: 2.6582 - val_acc: 0.8795\n",
            "Epoch 22/100\n",
            "100/100 [==============================] - 50s 500ms/step - loss: 0.2585 - acc: 0.9846 - val_loss: 3.2631 - val_acc: 0.8751\n",
            "Epoch 23/100\n",
            "100/100 [==============================] - 50s 501ms/step - loss: 0.2857 - acc: 0.9829 - val_loss: 3.1091 - val_acc: 0.8707\n",
            "Epoch 24/100\n",
            "100/100 [==============================] - 50s 498ms/step - loss: 0.2537 - acc: 0.9857 - val_loss: 2.2071 - val_acc: 0.8861\n",
            "Epoch 25/100\n",
            "100/100 [==============================] - 50s 500ms/step - loss: 0.2771 - acc: 0.9845 - val_loss: 2.8674 - val_acc: 0.8798\n",
            "Epoch 26/100\n",
            "100/100 [==============================] - 50s 502ms/step - loss: 0.2365 - acc: 0.9860 - val_loss: 2.9651 - val_acc: 0.8723\n",
            "Epoch 27/100\n",
            "100/100 [==============================] - 50s 498ms/step - loss: 0.2146 - acc: 0.9882 - val_loss: 2.3945 - val_acc: 0.8862\n",
            "Epoch 28/100\n",
            "100/100 [==============================] - 50s 497ms/step - loss: 0.2279 - acc: 0.9853 - val_loss: 3.0876 - val_acc: 0.8787\n",
            "Epoch 29/100\n",
            "100/100 [==============================] - 50s 500ms/step - loss: 0.2308 - acc: 0.9863 - val_loss: 2.8069 - val_acc: 0.8782\n",
            "Epoch 30/100\n",
            "100/100 [==============================] - 50s 501ms/step - loss: 0.1625 - acc: 0.9916 - val_loss: 3.0620 - val_acc: 0.8812\n",
            "Epoch 31/100\n",
            "100/100 [==============================] - 50s 498ms/step - loss: 0.2064 - acc: 0.9886 - val_loss: 3.4735 - val_acc: 0.8712\n",
            "Epoch 32/100\n",
            "100/100 [==============================] - 50s 501ms/step - loss: 0.1632 - acc: 0.9905 - val_loss: 3.1089 - val_acc: 0.8749\n",
            "Epoch 33/100\n",
            "100/100 [==============================] - 50s 503ms/step - loss: 0.1906 - acc: 0.9893 - val_loss: 3.2169 - val_acc: 0.8767\n",
            "Epoch 34/100\n",
            "100/100 [==============================] - 50s 505ms/step - loss: 0.1738 - acc: 0.9903 - val_loss: 3.5750 - val_acc: 0.8741\n",
            "Epoch 35/100\n",
            "100/100 [==============================] - 50s 500ms/step - loss: 0.1432 - acc: 0.9922 - val_loss: 3.5339 - val_acc: 0.8747\n",
            "Epoch 36/100\n",
            "100/100 [==============================] - 50s 501ms/step - loss: 0.1700 - acc: 0.9904 - val_loss: 3.2422 - val_acc: 0.8765\n",
            "Epoch 37/100\n",
            "100/100 [==============================] - 50s 501ms/step - loss: 0.1478 - acc: 0.9914 - val_loss: 3.5875 - val_acc: 0.8707\n",
            "Epoch 38/100\n",
            "100/100 [==============================] - 50s 498ms/step - loss: 0.1441 - acc: 0.9906 - val_loss: 2.9689 - val_acc: 0.8783\n",
            "Epoch 39/100\n",
            "100/100 [==============================] - 50s 502ms/step - loss: 0.1401 - acc: 0.9917 - val_loss: 2.6908 - val_acc: 0.8848\n",
            "Epoch 40/100\n",
            "100/100 [==============================] - 50s 498ms/step - loss: 0.1328 - acc: 0.9926 - val_loss: 3.9922 - val_acc: 0.8735\n",
            "Epoch 41/100\n",
            "100/100 [==============================] - 50s 500ms/step - loss: 0.1412 - acc: 0.9910 - val_loss: 3.2317 - val_acc: 0.8760\n",
            "Epoch 42/100\n",
            "100/100 [==============================] - 50s 498ms/step - loss: 0.1400 - acc: 0.9920 - val_loss: 3.8117 - val_acc: 0.8713\n",
            "Epoch 43/100\n",
            "100/100 [==============================] - 50s 497ms/step - loss: 0.1247 - acc: 0.9932 - val_loss: 4.1948 - val_acc: 0.8738\n",
            "Epoch 44/100\n",
            "100/100 [==============================] - 50s 498ms/step - loss: 0.1174 - acc: 0.9938 - val_loss: 3.9411 - val_acc: 0.8671\n",
            "Epoch 45/100\n",
            "100/100 [==============================] - 50s 498ms/step - loss: 0.1193 - acc: 0.9932 - val_loss: 5.0060 - val_acc: 0.8660\n",
            "Epoch 46/100\n",
            "100/100 [==============================] - 50s 502ms/step - loss: 0.1253 - acc: 0.9931 - val_loss: 2.4707 - val_acc: 0.8875\n",
            "Epoch 47/100\n",
            "100/100 [==============================] - 50s 496ms/step - loss: 0.1392 - acc: 0.9916 - val_loss: 4.0539 - val_acc: 0.8699\n",
            "Epoch 48/100\n",
            "100/100 [==============================] - 50s 498ms/step - loss: 0.1081 - acc: 0.9939 - val_loss: 2.8042 - val_acc: 0.8924\n",
            "Epoch 49/100\n",
            "100/100 [==============================] - 49s 495ms/step - loss: 0.1120 - acc: 0.9933 - val_loss: 4.1639 - val_acc: 0.8689\n",
            "Epoch 50/100\n",
            "100/100 [==============================] - 49s 495ms/step - loss: 0.1193 - acc: 0.9923 - val_loss: 2.8810 - val_acc: 0.8841\n",
            "Epoch 51/100\n",
            "100/100 [==============================] - 50s 499ms/step - loss: 0.0980 - acc: 0.9944 - val_loss: 4.4094 - val_acc: 0.8659\n",
            "Epoch 52/100\n",
            "100/100 [==============================] - 50s 503ms/step - loss: 0.1173 - acc: 0.9936 - val_loss: 3.6302 - val_acc: 0.8727\n",
            "Epoch 53/100\n",
            "100/100 [==============================] - 50s 506ms/step - loss: 0.1073 - acc: 0.9940 - val_loss: 4.4638 - val_acc: 0.8703\n",
            "Epoch 54/100\n",
            "100/100 [==============================] - 51s 506ms/step - loss: 0.1024 - acc: 0.9938 - val_loss: 3.1771 - val_acc: 0.8809\n",
            "Epoch 55/100\n",
            "100/100 [==============================] - 50s 497ms/step - loss: 0.1006 - acc: 0.9947 - val_loss: 3.6624 - val_acc: 0.8755\n",
            "Epoch 56/100\n",
            "100/100 [==============================] - 50s 496ms/step - loss: 0.0971 - acc: 0.9944 - val_loss: 3.9259 - val_acc: 0.8732\n",
            "Epoch 57/100\n",
            "100/100 [==============================] - 50s 498ms/step - loss: 0.0765 - acc: 0.9959 - val_loss: 4.2025 - val_acc: 0.8730\n",
            "Epoch 58/100\n",
            "100/100 [==============================] - 50s 496ms/step - loss: 0.0913 - acc: 0.9949 - val_loss: 4.5896 - val_acc: 0.8671\n",
            "Epoch 59/100\n",
            "100/100 [==============================] - 50s 501ms/step - loss: 0.0861 - acc: 0.9951 - val_loss: 3.4438 - val_acc: 0.8785\n",
            "Epoch 60/100\n",
            "100/100 [==============================] - 50s 501ms/step - loss: 0.0730 - acc: 0.9960 - val_loss: 3.0932 - val_acc: 0.8863\n",
            "Epoch 61/100\n",
            "100/100 [==============================] - 50s 501ms/step - loss: 0.0958 - acc: 0.9945 - val_loss: 4.1484 - val_acc: 0.8714\n",
            "Epoch 62/100\n",
            "100/100 [==============================] - 50s 498ms/step - loss: 0.0855 - acc: 0.9950 - val_loss: 3.9313 - val_acc: 0.8726\n",
            "Epoch 63/100\n",
            "100/100 [==============================] - 50s 501ms/step - loss: 0.0734 - acc: 0.9956 - val_loss: 3.1806 - val_acc: 0.8782\n",
            "Epoch 64/100\n",
            "100/100 [==============================] - 51s 508ms/step - loss: 0.0647 - acc: 0.9971 - val_loss: 4.5531 - val_acc: 0.8705\n",
            "Epoch 65/100\n",
            "100/100 [==============================] - 50s 505ms/step - loss: 0.0717 - acc: 0.9962 - val_loss: 5.0783 - val_acc: 0.8677\n",
            "Epoch 66/100\n",
            "100/100 [==============================] - 50s 502ms/step - loss: 0.0667 - acc: 0.9962 - val_loss: 2.9067 - val_acc: 0.8914\n",
            "Epoch 67/100\n",
            "100/100 [==============================] - 50s 503ms/step - loss: 0.0808 - acc: 0.9953 - val_loss: 4.2053 - val_acc: 0.8735\n",
            "Epoch 68/100\n",
            "100/100 [==============================] - 49s 495ms/step - loss: 0.0912 - acc: 0.9950 - val_loss: 4.1720 - val_acc: 0.8738\n",
            "Epoch 69/100\n",
            "100/100 [==============================] - 50s 497ms/step - loss: 0.0766 - acc: 0.9962 - val_loss: 4.5790 - val_acc: 0.8773\n",
            "Epoch 70/100\n",
            "100/100 [==============================] - 49s 495ms/step - loss: 0.0797 - acc: 0.9949 - val_loss: 3.9240 - val_acc: 0.8768\n",
            "Epoch 71/100\n",
            "100/100 [==============================] - 50s 502ms/step - loss: 0.0633 - acc: 0.9961 - val_loss: 4.0053 - val_acc: 0.8793\n",
            "Epoch 72/100\n",
            "100/100 [==============================] - 50s 501ms/step - loss: 0.0584 - acc: 0.9963 - val_loss: 5.0431 - val_acc: 0.8705\n",
            "Epoch 73/100\n",
            "100/100 [==============================] - 50s 498ms/step - loss: 0.0612 - acc: 0.9967 - val_loss: 4.8592 - val_acc: 0.8686\n",
            "Epoch 74/100\n",
            "100/100 [==============================] - 50s 500ms/step - loss: 0.0657 - acc: 0.9959 - val_loss: 3.5720 - val_acc: 0.8789\n",
            "Epoch 75/100\n",
            "100/100 [==============================] - 50s 503ms/step - loss: 0.0571 - acc: 0.9958 - val_loss: 4.1747 - val_acc: 0.8781\n",
            "Epoch 76/100\n",
            "100/100 [==============================] - 50s 498ms/step - loss: 0.0559 - acc: 0.9969 - val_loss: 5.6882 - val_acc: 0.8655\n",
            "Epoch 77/100\n",
            "100/100 [==============================] - 50s 501ms/step - loss: 0.0885 - acc: 0.9952 - val_loss: 4.1536 - val_acc: 0.8748\n",
            "Epoch 78/100\n",
            "100/100 [==============================] - 50s 502ms/step - loss: 0.0536 - acc: 0.9966 - val_loss: 2.9481 - val_acc: 0.8899\n",
            "Epoch 79/100\n",
            "100/100 [==============================] - 51s 508ms/step - loss: 0.0609 - acc: 0.9955 - val_loss: 3.0831 - val_acc: 0.8926\n",
            "Epoch 80/100\n",
            "100/100 [==============================] - 50s 504ms/step - loss: 0.0647 - acc: 0.9962 - val_loss: 4.2565 - val_acc: 0.8740\n",
            "Epoch 81/100\n",
            "100/100 [==============================] - 50s 501ms/step - loss: 0.0437 - acc: 0.9976 - val_loss: 5.8001 - val_acc: 0.8599\n",
            "Epoch 82/100\n",
            "100/100 [==============================] - 50s 498ms/step - loss: 0.0594 - acc: 0.9959 - val_loss: 3.6909 - val_acc: 0.8758\n",
            "Epoch 83/100\n",
            "100/100 [==============================] - 48s 482ms/step - loss: 0.0509 - acc: 0.9963 - val_loss: 4.8518 - val_acc: 0.8748\n",
            "Epoch 84/100\n",
            "100/100 [==============================] - 46s 461ms/step - loss: 0.0540 - acc: 0.9962 - val_loss: 5.5020 - val_acc: 0.8671\n",
            "Epoch 85/100\n",
            "100/100 [==============================] - 47s 473ms/step - loss: 0.0534 - acc: 0.9975 - val_loss: 3.3966 - val_acc: 0.8881\n",
            "Epoch 86/100\n",
            "100/100 [==============================] - 48s 476ms/step - loss: 0.0531 - acc: 0.9971 - val_loss: 5.0645 - val_acc: 0.8763\n",
            "Epoch 87/100\n",
            "100/100 [==============================] - 49s 489ms/step - loss: 0.0585 - acc: 0.9959 - val_loss: 5.6045 - val_acc: 0.8707\n",
            "Epoch 88/100\n",
            "100/100 [==============================] - 48s 483ms/step - loss: 0.0525 - acc: 0.9967 - val_loss: 4.0813 - val_acc: 0.8793\n",
            "Epoch 89/100\n",
            "100/100 [==============================] - 47s 474ms/step - loss: 0.0486 - acc: 0.9974 - val_loss: 3.2835 - val_acc: 0.8846\n",
            "Epoch 90/100\n",
            "100/100 [==============================] - 48s 482ms/step - loss: 0.0569 - acc: 0.9965 - val_loss: 4.7252 - val_acc: 0.8693\n",
            "Epoch 91/100\n",
            "100/100 [==============================] - 47s 475ms/step - loss: 0.0338 - acc: 0.9982 - val_loss: 4.6849 - val_acc: 0.8738\n",
            "Epoch 92/100\n",
            "100/100 [==============================] - 47s 473ms/step - loss: 0.0381 - acc: 0.9976 - val_loss: 4.6893 - val_acc: 0.8709\n",
            "Epoch 93/100\n",
            "100/100 [==============================] - 47s 468ms/step - loss: 0.0378 - acc: 0.9975 - val_loss: 3.1044 - val_acc: 0.8921\n",
            "Epoch 94/100\n",
            "100/100 [==============================] - 47s 471ms/step - loss: 0.0413 - acc: 0.9974 - val_loss: 4.6312 - val_acc: 0.8741\n",
            "Epoch 95/100\n",
            "100/100 [==============================] - 46s 465ms/step - loss: 0.0631 - acc: 0.9957 - val_loss: 4.3109 - val_acc: 0.8818\n",
            "Epoch 96/100\n",
            "100/100 [==============================] - 47s 467ms/step - loss: 0.0473 - acc: 0.9966 - val_loss: 3.9258 - val_acc: 0.8761\n",
            "Epoch 97/100\n",
            "100/100 [==============================] - 46s 464ms/step - loss: 0.0298 - acc: 0.9983 - val_loss: 3.9075 - val_acc: 0.8808\n",
            "Epoch 98/100\n",
            "100/100 [==============================] - 47s 475ms/step - loss: 0.0504 - acc: 0.9969 - val_loss: 5.2115 - val_acc: 0.8662\n",
            "Epoch 99/100\n",
            "100/100 [==============================] - 47s 468ms/step - loss: 0.0454 - acc: 0.9975 - val_loss: 4.8573 - val_acc: 0.8708\n",
            "Epoch 100/100\n",
            "100/100 [==============================] - 47s 467ms/step - loss: 0.0388 - acc: 0.9978 - val_loss: 4.6659 - val_acc: 0.8707\n"
          ],
          "name": "stdout"
        }
      ]
    },
    {
      "cell_type": "code",
      "metadata": {
        "colab": {
          "base_uri": "https://localhost:8080/",
          "height": 544
        },
        "id": "FO1ZHw3sRDDu",
        "outputId": "6b6a8352-4f6b-4992-a9c3-e50f3bc4c90c"
      },
      "source": [
        "#Plotting the results\r\n",
        "import matplotlib.pyplot as plt\r\n",
        "acc = history.history['acc']\r\n",
        "val_acc = history.history['val_acc']\r\n",
        "loss = history.history['loss']\r\n",
        "val_loss = history.history['val_loss']\r\n",
        "epochs = range(1, len(acc) + 1)\r\n",
        "plt.plot(epochs, acc, 'bo', label='Training acc')\r\n",
        "plt.plot(epochs, val_acc, 'b', label='Validation acc')\r\n",
        "plt.title('Training and validation accuracy')\r\n",
        "plt.legend()\r\n",
        "plt.figure()\r\n",
        "plt.plot(epochs, loss, 'bo', label='Training loss')\r\n",
        "plt.plot(epochs, val_loss, 'b', label='Validation loss')\r\n",
        "plt.title('Training and validation loss')\r\n",
        "plt.legend()\r\n",
        "plt.show()"
      ],
      "execution_count": 30,
      "outputs": [
        {
          "output_type": "display_data",
          "data": {
            "image/png": "[encoded data removed]",
            "text/plain": [
              "<Figure size 432x288 with 1 Axes>"
            ]
          },
          "metadata": {
            "tags": [],
            "needs_background": "light"
          }
        },
        {
          "output_type": "display_data",
          "data": {
            "image/png": "[encoded data removed]",
            "text/plain": [
              "<Figure size 432x288 with 1 Axes>"
            ]
          },
          "metadata": {
            "tags": [],
            "needs_background": "light"
          }
        }
      ]
    },
    {
      "cell_type": "code",
      "metadata": {
        "id": "DIv_8ch-RDGE"
      },
      "source": [
        ""
      ],
      "execution_count": null,
      "outputs": []
    }
  ]
}