{
  "nbformat": 4,
  "nbformat_minor": 0,
  "metadata": {
    "colab": {
      "name": "DriverDistractionDetection_Convnet_with_Augmentation.ipynb",
      "provenance": [],
      "collapsed_sections": []
    },
    "kernelspec": {
      "name": "python3",
      "display_name": "Python 3"
    },
    "accelerator": "GPU"
  },
  "cells": [
    {
      "cell_type": "code",
      "metadata": {
        "colab": {
          "base_uri": "https://localhost:8080/"
        },
        "id": "W5jWH6HG_SGW",
        "outputId": "add94795-2e38-4b07-dc89-b5756f4eccb6"
      },
      "source": [
        "from google.colab import drive\n",
        "drive.mount('/content/drive')"
      ],
      "execution_count": 2,
      "outputs": [
        {
          "output_type": "stream",
          "text": [
            "Drive already mounted at /content/drive; to attempt to forcibly remount, call drive.mount(\"/content/drive\", force_remount=True).\n"
          ],
          "name": "stdout"
        }
      ]
    },
    {
      "cell_type": "code",
      "metadata": {
        "id": "H1bx4zEPHbFY"
      },
      "source": [
        "#Keras Model with Image Augmentation and Dropout to reduce overfitting\r\n",
        "from keras import layers\r\n",
        "from keras import models"
      ],
      "execution_count": 3,
      "outputs": []
    },
    {
      "cell_type": "code",
      "metadata": {
        "id": "8jfdtAZTITo0"
      },
      "source": [
        "train_dir=\"/content/drive/MyDrive/Driver_Distraction_Detection/train\"\r\n",
        "validation_dir=\"/content/drive/MyDrive/Driver_Distraction_Detection/validation\"\r\n",
        "from keras.preprocessing.image import ImageDataGenerator\r\n",
        "train_datagen = ImageDataGenerator(\r\n",
        "rescale=1./255,\r\n",
        "rotation_range=40,\r\n",
        "width_shift_range=0.2,\r\n",
        "height_shift_range=0.2,\r\n",
        "shear_range=0.2,\r\n",
        "zoom_range=0.2,\r\n",
        "horizontal_flip=True,)"
      ],
      "execution_count": 4,
      "outputs": []
    },
    {
      "cell_type": "code",
      "metadata": {
        "colab": {
          "base_uri": "https://localhost:8080/"
        },
        "id": "IzCodlumITry",
        "outputId": "1f4c3ca4-1c99-430c-faaa-5c47e5a9bbfd"
      },
      "source": [
        "#Validation Data Set should not be augmented\r\n",
        "test_datagen = ImageDataGenerator(rescale=1./255)\r\n",
        "#Resize all images to 150x150\r\n",
        "train_generator = train_datagen.flow_from_directory(train_dir,target_size=(150, 150),batch_size=32,class_mode='categorical')\r\n",
        "validation_generator = test_datagen.flow_from_directory(\r\n",
        "validation_dir,target_size=(150, 150),batch_size=32,class_mode='categorical')"
      ],
      "execution_count": 5,
      "outputs": [
        {
          "output_type": "stream",
          "text": [
            "Found 10000 images belonging to 10 classes.\n",
            "Found 4900 images belonging to 10 classes.\n"
          ],
          "name": "stdout"
        }
      ]
    },
    {
      "cell_type": "code",
      "metadata": {
        "id": "2hI35sC5Iibh"
      },
      "source": [
        "model = models.Sequential()\r\n",
        "model.add(layers.Conv2D(32, (3, 3), activation='relu',input_shape=(150, 150, 3)))\r\n",
        "model.add(layers.MaxPooling2D((2, 2)))\r\n",
        "model.add(layers.Conv2D(64, (3, 3), activation='relu'))\r\n",
        "model.add(layers.MaxPooling2D((2, 2)))\r\n",
        "model.add(layers.Conv2D(128, (3, 3), activation='relu'))\r\n",
        "model.add(layers.MaxPooling2D((2, 2)))\r\n",
        "model.add(layers.Conv2D(128, (3, 3), activation='relu'))\r\n",
        "model.add(layers.MaxPooling2D((2, 2)))\r\n",
        "model.add(layers.Flatten())\r\n",
        "model.add(layers.Dropout(0.5))\r\n",
        "model.add(layers.Dense(512, activation='relu'))\r\n",
        "model.add(layers.Dense(1, activation='softmax'))"
      ],
      "execution_count": 6,
      "outputs": []
    },
    {
      "cell_type": "code",
      "metadata": {
        "colab": {
          "base_uri": "https://localhost:8080/"
        },
        "id": "c5osB_oDIiek",
        "outputId": "393510f5-f692-483f-fe52-18728de42b6a"
      },
      "source": [
        "from keras import optimizers\r\n",
        "model.compile(loss='categorical_crossentropy',optimizer=optimizers.RMSprop(lr=1e-4),metrics=['acc'])\r\n",
        "\r\n",
        "history = model.fit_generator(\r\n",
        "train_generator,\r\n",
        "steps_per_epoch=100,\r\n",
        "epochs=30,\r\n",
        "validation_data=validation_generator,\r\n",
        "validation_steps=150)\r\n",
        "\r\n",
        "model.save('Detection_2.h5')"
      ],
      "execution_count": 8,
      "outputs": [
        {
          "output_type": "stream",
          "text": [
            "/usr/local/lib/python3.7/dist-packages/tensorflow/python/keras/engine/training.py:1844: UserWarning: `Model.fit_generator` is deprecated and will be removed in a future version. Please use `Model.fit`, which supports generators.\n",
            "  warnings.warn('`Model.fit_generator` is deprecated and '\n"
          ],
          "name": "stderr"
        },
        {
          "output_type": "stream",
          "text": [
            "Epoch 1/30\n",
            "100/100 [==============================] - 2748s 28s/step - loss: 2.3028 - acc: 0.9000 - val_loss: 2.3024 - val_acc: 0.9000\n",
            "Epoch 2/30\n",
            "100/100 [==============================] - 751s 8s/step - loss: 2.3026 - acc: 0.9000 - val_loss: 2.3023 - val_acc: 0.9000\n",
            "Epoch 3/30\n",
            "100/100 [==============================] - 499s 5s/step - loss: 2.3025 - acc: 0.9000 - val_loss: 2.3014 - val_acc: 0.9000\n",
            "Epoch 4/30\n",
            "100/100 [==============================] - 372s 4s/step - loss: 2.3008 - acc: 0.9000 - val_loss: 2.2914 - val_acc: 0.9000\n",
            "Epoch 5/30\n",
            "100/100 [==============================] - 274s 3s/step - loss: 2.2901 - acc: 0.9000 - val_loss: 2.2270 - val_acc: 0.9000\n",
            "Epoch 6/30\n",
            "100/100 [==============================] - 205s 2s/step - loss: 2.2531 - acc: 0.9000 - val_loss: 2.2339 - val_acc: 0.9000\n",
            "Epoch 7/30\n",
            "100/100 [==============================] - 149s 1s/step - loss: 2.2048 - acc: 0.9000 - val_loss: 2.2299 - val_acc: 0.9000\n",
            "Epoch 8/30\n",
            "100/100 [==============================] - 115s 1s/step - loss: 2.2290 - acc: 0.9000 - val_loss: 2.1487 - val_acc: 0.9000\n",
            "Epoch 9/30\n",
            "100/100 [==============================] - 104s 1s/step - loss: 2.1890 - acc: 0.9000 - val_loss: 2.2797 - val_acc: 0.9000\n",
            "Epoch 10/30\n",
            "100/100 [==============================] - 81s 811ms/step - loss: 2.1593 - acc: 0.9000 - val_loss: 2.2032 - val_acc: 0.9006\n",
            "Epoch 11/30\n",
            "100/100 [==============================] - 80s 796ms/step - loss: 2.1291 - acc: 0.9000 - val_loss: 2.2027 - val_acc: 0.9008\n",
            "Epoch 12/30\n",
            "100/100 [==============================] - 71s 710ms/step - loss: 2.1199 - acc: 0.9000 - val_loss: 2.3789 - val_acc: 0.8995\n",
            "Epoch 13/30\n",
            "100/100 [==============================] - 62s 627ms/step - loss: 2.0914 - acc: 0.9000 - val_loss: 2.5176 - val_acc: 0.9006\n",
            "Epoch 14/30\n",
            "100/100 [==============================] - 61s 609ms/step - loss: 2.0757 - acc: 0.9002 - val_loss: 2.4049 - val_acc: 0.8966\n",
            "Epoch 15/30\n",
            "100/100 [==============================] - 60s 602ms/step - loss: 2.0434 - acc: 0.8998 - val_loss: 2.4966 - val_acc: 0.9001\n",
            "Epoch 16/30\n",
            "100/100 [==============================] - 58s 587ms/step - loss: 1.9988 - acc: 0.9001 - val_loss: 2.3332 - val_acc: 0.9009\n",
            "Epoch 17/30\n",
            "100/100 [==============================] - 58s 582ms/step - loss: 1.9784 - acc: 0.8998 - val_loss: 2.2701 - val_acc: 0.9009\n",
            "Epoch 18/30\n",
            "100/100 [==============================] - 57s 569ms/step - loss: 1.9508 - acc: 0.9002 - val_loss: 2.4731 - val_acc: 0.9005\n",
            "Epoch 19/30\n",
            "100/100 [==============================] - 57s 569ms/step - loss: 1.9483 - acc: 0.8998 - val_loss: 2.3402 - val_acc: 0.8945\n",
            "Epoch 20/30\n",
            "100/100 [==============================] - 56s 561ms/step - loss: 1.8990 - acc: 0.8990 - val_loss: 2.5074 - val_acc: 0.8884\n",
            "Epoch 21/30\n",
            "100/100 [==============================] - 56s 561ms/step - loss: 1.9126 - acc: 0.9003 - val_loss: 2.5685 - val_acc: 0.8876\n",
            "Epoch 22/30\n",
            "100/100 [==============================] - 55s 555ms/step - loss: 1.8819 - acc: 0.9009 - val_loss: 2.4026 - val_acc: 0.8927\n",
            "Epoch 23/30\n",
            "100/100 [==============================] - 55s 553ms/step - loss: 1.8637 - acc: 0.9009 - val_loss: 2.4259 - val_acc: 0.8950\n",
            "Epoch 24/30\n",
            "100/100 [==============================] - 56s 559ms/step - loss: 1.8470 - acc: 0.9013 - val_loss: 2.4247 - val_acc: 0.8897\n",
            "Epoch 25/30\n",
            "100/100 [==============================] - 56s 561ms/step - loss: 1.7942 - acc: 0.9013 - val_loss: 2.7712 - val_acc: 0.8700\n",
            "Epoch 26/30\n",
            "100/100 [==============================] - 55s 554ms/step - loss: 1.7988 - acc: 0.9013 - val_loss: 2.3596 - val_acc: 0.8883\n",
            "Epoch 27/30\n",
            "100/100 [==============================] - 55s 552ms/step - loss: 1.7479 - acc: 0.9019 - val_loss: 2.6671 - val_acc: 0.8724\n",
            "Epoch 28/30\n",
            "100/100 [==============================] - 55s 554ms/step - loss: 1.7231 - acc: 0.9022 - val_loss: 2.6266 - val_acc: 0.8678\n",
            "Epoch 29/30\n",
            "100/100 [==============================] - 56s 560ms/step - loss: 1.7194 - acc: 0.9042 - val_loss: 2.6368 - val_acc: 0.8689\n",
            "Epoch 30/30\n",
            "100/100 [==============================] - 55s 555ms/step - loss: 1.6889 - acc: 0.9047 - val_loss: 2.4509 - val_acc: 0.8917\n"
          ],
          "name": "stdout"
        }
      ]
    },
    {
      "cell_type": "code",
      "metadata": {
        "id": "kQ3TXyFvITuL",
        "colab": {
          "base_uri": "https://localhost:8080/",
          "height": 544
        },
        "outputId": "872971dd-18f2-4149-c653-2fd81e4357c9"
      },
      "source": [
        "import matplotlib.pyplot as plt\r\n",
        "acc = history.history['acc']\r\n",
        "val_acc = history.history['val_acc']\r\n",
        "loss = history.history['loss']\r\n",
        "val_loss = history.history['val_loss']\r\n",
        "epochs = range(1, len(acc) + 1)\r\n",
        "plt.plot(epochs, acc, 'bo', label='Training acc')\r\n",
        "plt.plot(epochs, val_acc, 'b', label='Validation acc')\r\n",
        "plt.title('Training and validation accuracy')\r\n",
        "plt.legend()\r\n",
        "plt.figure()\r\n",
        "plt.plot(epochs, loss, 'bo', label='Training loss')\r\n",
        "plt.plot(epochs, val_loss, 'b', label='Validation loss')\r\n",
        "plt.title('Training and validation loss')\r\n",
        "plt.legend()\r\n",
        "plt.show()"
      ],
      "execution_count": 9,
      "outputs": [
        {
          "output_type": "display_data",
          "data": {
            "image/png": "[encoded data removed]",
            "text/plain": [
              "<Figure size 432x288 with 1 Axes>"
            ]
          },
          "metadata": {
            "tags": [],
            "needs_background": "light"
          }
        },
        {
          "output_type": "display_data",
          "data": {
            "image/png": "[encoded data removed]",
            "text/plain": [
              "<Figure size 432x288 with 1 Axes>"
            ]
          },
          "metadata": {
            "tags": [],
            "needs_background": "light"
          }
        }
      ]
    }
  ]
}