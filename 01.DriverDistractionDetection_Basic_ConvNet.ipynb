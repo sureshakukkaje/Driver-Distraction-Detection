{
  "nbformat": 4,
  "nbformat_minor": 0,
  "metadata": {
    "colab": {
      "name": "DriverDistractionDetection_Convnet.ipynb",
      "provenance": [],
      "collapsed_sections": []
    },
    "kernelspec": {
      "name": "python3",
      "display_name": "Python 3"
    },
    "accelerator": "GPU"
  },
  "cells": [
    {
      "cell_type": "code",
      "metadata": {
        "colab": {
          "base_uri": "https://localhost:8080/"
        },
        "id": "iP32AQBYihri",
        "outputId": "9c8dacbb-89c8-4320-c02c-3e5c6ba9d2c1"
      },
      "source": [
        "from google.colab import drive\n",
        "drive.mount('/content/drive')"
      ],
      "execution_count": 2,
      "outputs": [
        {
          "output_type": "stream",
          "text": [
            "Drive already mounted at /content/drive; to attempt to forcibly remount, call drive.mount(\"/content/drive\", force_remount=True).\n"
          ],
          "name": "stdout"
        }
      ]
    },
    {
      "cell_type": "code",
      "metadata": {
        "id": "zPvhVegapISu"
      },
      "source": [
        "from keras import layers\r\n",
        "from keras import models"
      ],
      "execution_count": 3,
      "outputs": []
    },
    {
      "cell_type": "code",
      "metadata": {
        "id": "XKJqKuZQpUm1"
      },
      "source": [
        "train_dir=\"/content/drive/MyDrive/Driver_Distraction_Detection/train\"\r\n",
        "validation_dir=\"/content/drive/MyDrive/Driver_Distraction_Detection/validation\""
      ],
      "execution_count": 4,
      "outputs": []
    },
    {
      "cell_type": "code",
      "metadata": {
        "id": "KClSDsVjpmLj",
        "colab": {
          "base_uri": "https://localhost:8080/"
        },
        "outputId": "211e561a-027e-4418-c6f8-0cf09e09bac5"
      },
      "source": [
        "from keras.preprocessing.image import ImageDataGenerator\r\n",
        "train_datagen = ImageDataGenerator(rescale=1./255)\r\n",
        "test_datagen = ImageDataGenerator(rescale=1./255)\r\n",
        "train_generator = train_datagen.flow_from_directory(train_dir,target_size=(150, 150),batch_size=10,class_mode='categorical')\r\n",
        "validation_generator = test_datagen.flow_from_directory(\r\n",
        "validation_dir,target_size=(150, 150),batch_size=10,class_mode='categorical')"
      ],
      "execution_count": 5,
      "outputs": [
        {
          "output_type": "stream",
          "text": [
            "Found 10000 images belonging to 10 classes.\n",
            "Found 4900 images belonging to 10 classes.\n"
          ],
          "name": "stdout"
        }
      ]
    },
    {
      "cell_type": "code",
      "metadata": {
        "id": "iMnxBnEepmPd"
      },
      "source": [
        "model = models.Sequential()\r\n",
        "model.add(layers.Conv2D(32, (3, 3), activation='relu',input_shape=(150, 150, 3)))\r\n",
        "model.add(layers.MaxPooling2D((2, 2)))\r\n",
        "model.add(layers.Conv2D(64, (3, 3), activation='relu'))\r\n",
        "model.add(layers.MaxPooling2D((2, 2)))\r\n",
        "model.add(layers.Conv2D(128, (3, 3), activation='relu'))\r\n",
        "model.add(layers.MaxPooling2D((2, 2)))\r\n",
        "model.add(layers.Conv2D(128, (3, 3), activation='relu'))\r\n",
        "model.add(layers.MaxPooling2D((2, 2)))\r\n",
        "model.add(layers.Flatten())\r\n",
        "model.add(layers.Dense(512, activation='relu'))\r\n",
        "model.add(layers.Dense(1, activation='softmax'))"
      ],
      "execution_count": 6,
      "outputs": []
    },
    {
      "cell_type": "code",
      "metadata": {
        "id": "3UKNB8zCpUpo",
        "colab": {
          "base_uri": "https://localhost:8080/"
        },
        "outputId": "0b350cd7-bdca-4e79-fef7-39aeb12d0e06"
      },
      "source": [
        "from keras import optimizers\r\n",
        "model.compile(loss='categorical_crossentropy',optimizer=optimizers.RMSprop(lr=1e-4),metrics=['acc'])\r\n",
        "\r\n",
        "history = model.fit_generator(\r\n",
        "train_generator,\r\n",
        "steps_per_epoch=100,\r\n",
        "epochs=30,\r\n",
        "validation_data=validation_generator,\r\n",
        "validation_steps=50)\r\n",
        "\r\n",
        "model.save('Detection.h5')\r\n"
      ],
      "execution_count": 8,
      "outputs": [
        {
          "output_type": "stream",
          "text": [
            "/usr/local/lib/python3.7/dist-packages/tensorflow/python/keras/engine/training.py:1844: UserWarning: `Model.fit_generator` is deprecated and will be removed in a future version. Please use `Model.fit`, which supports generators.\n",
            "  warnings.warn('`Model.fit_generator` is deprecated and '\n"
          ],
          "name": "stderr"
        },
        {
          "output_type": "stream",
          "text": [
            "Epoch 1/30\n",
            "100/100 [==============================] - 905s 9s/step - loss: 2.3011 - acc: 0.9000 - val_loss: 2.2976 - val_acc: 0.9000\n",
            "Epoch 2/30\n",
            "100/100 [==============================] - 819s 8s/step - loss: 2.2521 - acc: 0.9000 - val_loss: 2.3737 - val_acc: 0.9000\n",
            "Epoch 3/30\n",
            "100/100 [==============================] - 720s 7s/step - loss: 1.8254 - acc: 0.9016 - val_loss: 2.8737 - val_acc: 0.8790\n",
            "Epoch 4/30\n",
            "100/100 [==============================] - 667s 7s/step - loss: 1.5591 - acc: 0.9085 - val_loss: 3.8078 - val_acc: 0.8588\n",
            "Epoch 5/30\n",
            "100/100 [==============================] - 616s 6s/step - loss: 1.2202 - acc: 0.9234 - val_loss: 3.3179 - val_acc: 0.8646\n",
            "Epoch 6/30\n",
            "100/100 [==============================] - 530s 5s/step - loss: 0.9572 - acc: 0.9344 - val_loss: 4.5427 - val_acc: 0.8494\n",
            "Epoch 7/30\n",
            "100/100 [==============================] - 512s 5s/step - loss: 0.6655 - acc: 0.9574 - val_loss: 4.4782 - val_acc: 0.8622\n",
            "Epoch 8/30\n",
            "100/100 [==============================] - 448s 5s/step - loss: 0.5892 - acc: 0.9674 - val_loss: 5.5592 - val_acc: 0.8406\n",
            "Epoch 9/30\n",
            "100/100 [==============================] - 386s 4s/step - loss: 0.3446 - acc: 0.9779 - val_loss: 6.7767 - val_acc: 0.8508\n",
            "Epoch 10/30\n",
            "100/100 [==============================] - 367s 4s/step - loss: 0.3916 - acc: 0.9765 - val_loss: 5.1312 - val_acc: 0.8644\n",
            "Epoch 11/30\n",
            "100/100 [==============================] - 338s 3s/step - loss: 0.2799 - acc: 0.9826 - val_loss: 5.7653 - val_acc: 0.8502\n",
            "Epoch 12/30\n",
            "100/100 [==============================] - 293s 3s/step - loss: 0.2327 - acc: 0.9873 - val_loss: 5.9482 - val_acc: 0.8532\n",
            "Epoch 13/30\n",
            "100/100 [==============================] - 266s 3s/step - loss: 0.2530 - acc: 0.9830 - val_loss: 5.1828 - val_acc: 0.8746\n",
            "Epoch 14/30\n",
            "100/100 [==============================] - 235s 2s/step - loss: 0.1434 - acc: 0.9924 - val_loss: 9.4576 - val_acc: 0.8476\n",
            "Epoch 15/30\n",
            "100/100 [==============================] - 224s 2s/step - loss: 0.1797 - acc: 0.9899 - val_loss: 8.3454 - val_acc: 0.8618\n",
            "Epoch 16/30\n",
            "100/100 [==============================] - 209s 2s/step - loss: 0.1442 - acc: 0.9917 - val_loss: 6.9683 - val_acc: 0.8586\n",
            "Epoch 17/30\n",
            "100/100 [==============================] - 171s 2s/step - loss: 0.1375 - acc: 0.9912 - val_loss: 8.4558 - val_acc: 0.8644\n",
            "Epoch 18/30\n",
            "100/100 [==============================] - 157s 2s/step - loss: 0.1335 - acc: 0.9937 - val_loss: 10.9737 - val_acc: 0.8416\n",
            "Epoch 19/30\n",
            "100/100 [==============================] - 129s 1s/step - loss: 0.0793 - acc: 0.9950 - val_loss: 7.8250 - val_acc: 0.8590\n",
            "Epoch 20/30\n",
            "100/100 [==============================] - 131s 1s/step - loss: 0.1548 - acc: 0.9924 - val_loss: 9.9514 - val_acc: 0.8600\n",
            "Epoch 21/30\n",
            "100/100 [==============================] - 127s 1s/step - loss: 0.1369 - acc: 0.9910 - val_loss: 9.3760 - val_acc: 0.8572\n",
            "Epoch 22/30\n",
            "100/100 [==============================] - 99s 985ms/step - loss: 0.0887 - acc: 0.9939 - val_loss: 10.5454 - val_acc: 0.8524\n",
            "Epoch 23/30\n",
            "100/100 [==============================] - 101s 1s/step - loss: 0.0933 - acc: 0.9939 - val_loss: 7.5212 - val_acc: 0.8612\n",
            "Epoch 24/30\n",
            "100/100 [==============================] - 85s 860ms/step - loss: 0.1001 - acc: 0.9952 - val_loss: 10.9995 - val_acc: 0.8488\n",
            "Epoch 25/30\n",
            "100/100 [==============================] - 89s 883ms/step - loss: 0.0923 - acc: 0.9935 - val_loss: 9.3048 - val_acc: 0.8586\n",
            "Epoch 26/30\n",
            "100/100 [==============================] - 68s 685ms/step - loss: 0.0334 - acc: 0.9979 - val_loss: 11.5555 - val_acc: 0.8508\n",
            "Epoch 27/30\n",
            "100/100 [==============================] - 66s 657ms/step - loss: 0.0469 - acc: 0.9975 - val_loss: 12.2134 - val_acc: 0.8576\n",
            "Epoch 28/30\n",
            "100/100 [==============================] - 62s 628ms/step - loss: 0.0721 - acc: 0.9966 - val_loss: 8.4639 - val_acc: 0.8602\n",
            "Epoch 29/30\n",
            "100/100 [==============================] - 65s 656ms/step - loss: 0.0595 - acc: 0.9969 - val_loss: 11.4573 - val_acc: 0.8468\n",
            "Epoch 30/30\n",
            "100/100 [==============================] - 51s 510ms/step - loss: 0.0369 - acc: 0.9971 - val_loss: 12.0040 - val_acc: 0.8508\n"
          ],
          "name": "stdout"
        }
      ]
    },
    {
      "cell_type": "code",
      "metadata": {
        "id": "ATbHny_OpUsj",
        "colab": {
          "base_uri": "https://localhost:8080/",
          "height": 544
        },
        "outputId": "4725734f-8ac4-46e0-df71-eb5fed94eba2"
      },
      "source": [
        "import matplotlib.pyplot as plt\r\n",
        "acc = history.history['acc']\r\n",
        "val_acc = history.history['val_acc']\r\n",
        "loss = history.history['loss']\r\n",
        "val_loss = history.history['val_loss']\r\n",
        "epochs = range(1, len(acc) + 1)\r\n",
        "plt.plot(epochs, acc, 'bo', label='Training acc')\r\n",
        "plt.plot(epochs, val_acc, 'b', label='Validation acc')\r\n",
        "plt.title('Training and validation accuracy')\r\n",
        "plt.legend()\r\n",
        "plt.figure()\r\n",
        "plt.plot(epochs, loss, 'bo', label='Training loss')\r\n",
        "plt.plot(epochs, val_loss, 'b', label='Validation loss')\r\n",
        "plt.title('Training and validation loss')\r\n",
        "plt.legend()\r\n",
        "plt.show()\r\n"
      ],
      "execution_count": 9,
      "outputs": [
        {
          "output_type": "display_data",
          "data": {
            "image/png": "[encoded data removed]",
            "text/plain": [
              "<Figure size 432x288 with 1 Axes>"
            ]
          },
          "metadata": {
            "tags": [],
            "needs_background": "light"
          }
        },
        {
          "output_type": "display_data",
          "data": {
            "image/png": "[encoded data removed]",
            "text/plain": [
              "<Figure size 432x288 with 1 Axes>"
            ]
          },
          "metadata": {
            "tags": [],
            "needs_background": "light"
          }
        }
      ]
    },
    {
      "cell_type": "code",
      "metadata": {
        "id": "5khEUyybG6K_"
      },
      "source": [
        ""
      ],
      "execution_count": null,
      "outputs": []
    }
  ]
}