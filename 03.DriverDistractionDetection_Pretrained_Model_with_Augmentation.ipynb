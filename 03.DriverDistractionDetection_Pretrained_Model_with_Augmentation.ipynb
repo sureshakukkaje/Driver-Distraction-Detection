{
  "nbformat": 4,
  "nbformat_minor": 0,
  "metadata": {
    "colab": {
      "name": "DriverDistractionDetection_Pretrained_Model_with_Augmentation",
      "provenance": [],
      "collapsed_sections": []
    },
    "kernelspec": {
      "name": "python3",
      "display_name": "Python 3"
    },
    "accelerator": "GPU"
  },
  "cells": [
    {
      "cell_type": "code",
      "metadata": {
        "colab": {
          "base_uri": "https://localhost:8080/"
        },
        "id": "TgYzqkIz6uOz",
        "outputId": "f606186d-c1bf-4854-bec5-28318e558687"
      },
      "source": [
        "from google.colab import drive\n",
        "drive.mount('/content/drive')"
      ],
      "execution_count": 5,
      "outputs": [
        {
          "output_type": "stream",
          "text": [
            "Drive already mounted at /content/drive; to attempt to forcibly remount, call drive.mount(\"/content/drive\", force_remount=True).\n"
          ],
          "name": "stdout"
        }
      ]
    },
    {
      "cell_type": "code",
      "metadata": {
        "id": "bSqVnWdR-Osx",
        "colab": {
          "base_uri": "https://localhost:8080/"
        },
        "outputId": "188dc4c2-e36d-4742-e2a5-eddd684079af"
      },
      "source": [
        "#This method allows Data Augmentation but should only be run on GPU\r\n",
        "from keras.applications import VGG16\r\n",
        "#Just reuse the bottom convolutional base of VGG16 model as its more generic, top will be related to specific classes so not used\r\n",
        "conv_base = VGG16(weights='imagenet',include_top=False,input_shape=(150, 150, 3))\r\n"
      ],
      "execution_count": 6,
      "outputs": [
        {
          "output_type": "stream",
          "text": [
            "Downloading data from https://storage.googleapis.com/tensorflow/keras-applications/vgg16/vgg16_weights_tf_dim_ordering_tf_kernels_notop.h5\n",
            "58892288/58889256 [==============================] - 0s 0us/step\n"
          ],
          "name": "stdout"
        }
      ]
    },
    {
      "cell_type": "code",
      "metadata": {
        "id": "kFkMxpLb-YP-"
      },
      "source": [
        "#Adding a sequential model to top of conv_base\r\n",
        "from keras import models\r\n",
        "from keras import layers\r\n",
        "model = models.Sequential()\r\n",
        "model.add(conv_base)\r\n",
        "model.add(layers.Flatten())\r\n",
        "model.add(layers.Dense(256, activation='relu'))\r\n",
        "model.add(layers.Dense(1, activation='softmax'))"
      ],
      "execution_count": 7,
      "outputs": []
    },
    {
      "cell_type": "code",
      "metadata": {
        "colab": {
          "base_uri": "https://localhost:8080/"
        },
        "id": "oPP_9Ipe-sT3",
        "outputId": "eb5aa7a9-f9b4-4aa7-90dd-5941b83febf9"
      },
      "source": [
        "#freeze the conv base. Freezing a layer means preventing their weights from being updated during training\r\n",
        "print('This is the number of trainable weights ''before freezing the conv base:', len(model.trainable_weights))\r\n",
        "conv_base.trainable = False\r\n",
        "print('This is the number of trainable weights '\r\n",
        "'after freezing the conv base:', len(model.trainable_weights))"
      ],
      "execution_count": 8,
      "outputs": [
        {
          "output_type": "stream",
          "text": [
            "This is the number of trainable weights before freezing the conv base: 30\n",
            "This is the number of trainable weights after freezing the conv base: 4\n"
          ],
          "name": "stdout"
        }
      ]
    },
    {
      "cell_type": "code",
      "metadata": {
        "id": "QGk8eQ3w-uP2"
      },
      "source": [
        "train_dir=\"/content/drive/MyDrive/Driver_Distraction_Detection/train\"\r\n",
        "validation_dir=\"/content/drive/MyDrive/Driver_Distraction_Detection/validation\"\r\n",
        "from keras.preprocessing.image import ImageDataGenerator\r\n",
        "train_datagen = ImageDataGenerator(\r\n",
        "rescale=1./255,\r\n",
        "rotation_range=40,\r\n",
        "width_shift_range=0.2,\r\n",
        "height_shift_range=0.2,\r\n",
        "shear_range=0.2,\r\n",
        "zoom_range=0.2,\r\n",
        "horizontal_flip=True,)"
      ],
      "execution_count": 9,
      "outputs": []
    },
    {
      "cell_type": "code",
      "metadata": {
        "colab": {
          "base_uri": "https://localhost:8080/"
        },
        "id": "U48VPWqX-waj",
        "outputId": "80fdb330-1433-4c9c-afb2-d76776ae1b49"
      },
      "source": [
        "#Validation Data Set should not be augmented\r\n",
        "test_datagen = ImageDataGenerator(rescale=1./255)\r\n",
        "#Resize all images to 150x150\r\n",
        "train_generator = train_datagen.flow_from_directory(train_dir,target_size=(150, 150),batch_size=32,class_mode='categorical')\r\n",
        "validation_generator = test_datagen.flow_from_directory(\r\n",
        "validation_dir,target_size=(150, 150),batch_size=32,class_mode='categorical')"
      ],
      "execution_count": 10,
      "outputs": [
        {
          "output_type": "stream",
          "text": [
            "Found 10000 images belonging to 10 classes.\n",
            "Found 4900 images belonging to 10 classes.\n"
          ],
          "name": "stdout"
        }
      ]
    },
    {
      "cell_type": "code",
      "metadata": {
        "colab": {
          "base_uri": "https://localhost:8080/"
        },
        "id": "AG8zfjmX-6-f",
        "outputId": "90dffa61-c9b0-45ba-9b9a-4804be616996"
      },
      "source": [
        "from keras import optimizers\r\n",
        "model.compile(loss='categorical_crossentropy',\r\n",
        "optimizer=optimizers.RMSprop(lr=2e-5),\r\n",
        "metrics=['acc'])\r\n",
        "history = model.fit_generator(\r\n",
        "train_generator,\r\n",
        "steps_per_epoch=100,\r\n",
        "epochs=30,\r\n",
        "validation_data=validation_generator,\r\n",
        "validation_steps=100)"
      ],
      "execution_count": 12,
      "outputs": [
        {
          "output_type": "stream",
          "text": [
            "/usr/local/lib/python3.7/dist-packages/tensorflow/python/keras/engine/training.py:1844: UserWarning: `Model.fit_generator` is deprecated and will be removed in a future version. Please use `Model.fit`, which supports generators.\n",
            "  warnings.warn('`Model.fit_generator` is deprecated and '\n"
          ],
          "name": "stderr"
        },
        {
          "output_type": "stream",
          "text": [
            "Epoch 1/30\n",
            "100/100 [==============================] - 1702s 17s/step - loss: 2.3019 - acc: 0.9000 - val_loss: 2.3023 - val_acc: 0.9000\n",
            "Epoch 2/30\n",
            "100/100 [==============================] - 869s 9s/step - loss: 2.2982 - acc: 0.9000 - val_loss: 2.3008 - val_acc: 0.9000\n",
            "Epoch 3/30\n",
            "100/100 [==============================] - 532s 5s/step - loss: 2.2904 - acc: 0.9000 - val_loss: 2.2926 - val_acc: 0.9000\n",
            "Epoch 4/30\n",
            "100/100 [==============================] - 371s 4s/step - loss: 2.2776 - acc: 0.9000 - val_loss: 2.2823 - val_acc: 0.9000\n",
            "Epoch 5/30\n",
            "100/100 [==============================] - 254s 3s/step - loss: 2.2577 - acc: 0.9000 - val_loss: 2.2693 - val_acc: 0.9000\n",
            "Epoch 6/30\n",
            "100/100 [==============================] - 175s 2s/step - loss: 2.2292 - acc: 0.9000 - val_loss: 2.2601 - val_acc: 0.9000\n",
            "Epoch 7/30\n",
            "100/100 [==============================] - 133s 1s/step - loss: 2.1995 - acc: 0.9000 - val_loss: 2.2430 - val_acc: 0.9000\n",
            "Epoch 8/30\n",
            "100/100 [==============================] - 112s 1s/step - loss: 2.1652 - acc: 0.9000 - val_loss: 2.2390 - val_acc: 0.9000\n",
            "Epoch 9/30\n",
            "100/100 [==============================] - 98s 983ms/step - loss: 2.1309 - acc: 0.9000 - val_loss: 2.2319 - val_acc: 0.9000\n",
            "Epoch 10/30\n",
            "100/100 [==============================] - 85s 853ms/step - loss: 2.0820 - acc: 0.9000 - val_loss: 2.2240 - val_acc: 0.9000\n",
            "Epoch 11/30\n",
            "100/100 [==============================] - 68s 685ms/step - loss: 2.0451 - acc: 0.9000 - val_loss: 2.2008 - val_acc: 0.9000\n",
            "Epoch 12/30\n",
            "100/100 [==============================] - 62s 612ms/step - loss: 2.0134 - acc: 0.9000 - val_loss: 2.2061 - val_acc: 0.9000\n",
            "Epoch 13/30\n",
            "100/100 [==============================] - 55s 554ms/step - loss: 1.9668 - acc: 0.9000 - val_loss: 2.2124 - val_acc: 0.9000\n",
            "Epoch 14/30\n",
            "100/100 [==============================] - 54s 544ms/step - loss: 1.9353 - acc: 0.9000 - val_loss: 2.2158 - val_acc: 0.9000\n",
            "Epoch 15/30\n",
            "100/100 [==============================] - 54s 542ms/step - loss: 1.9008 - acc: 0.9000 - val_loss: 2.2334 - val_acc: 0.9000\n",
            "Epoch 16/30\n",
            "100/100 [==============================] - 51s 515ms/step - loss: 1.8759 - acc: 0.9000 - val_loss: 2.2119 - val_acc: 0.9003\n",
            "Epoch 17/30\n",
            "100/100 [==============================] - 52s 517ms/step - loss: 1.8420 - acc: 0.9001 - val_loss: 2.2166 - val_acc: 0.9002\n",
            "Epoch 18/30\n",
            "100/100 [==============================] - 53s 531ms/step - loss: 1.7952 - acc: 0.9002 - val_loss: 2.2378 - val_acc: 0.9004\n",
            "Epoch 19/30\n",
            "100/100 [==============================] - 52s 518ms/step - loss: 1.7896 - acc: 0.9004 - val_loss: 2.1887 - val_acc: 0.9008\n",
            "Epoch 20/30\n",
            "100/100 [==============================] - 51s 512ms/step - loss: 1.7590 - acc: 0.9005 - val_loss: 2.1704 - val_acc: 0.9005\n",
            "Epoch 21/30\n",
            "100/100 [==============================] - 50s 503ms/step - loss: 1.7141 - acc: 0.9004 - val_loss: 2.1664 - val_acc: 0.9008\n",
            "Epoch 22/30\n",
            "100/100 [==============================] - 51s 508ms/step - loss: 1.6811 - acc: 0.9009 - val_loss: 2.2147 - val_acc: 0.9006\n",
            "Epoch 23/30\n",
            "100/100 [==============================] - 51s 513ms/step - loss: 1.6457 - acc: 0.9022 - val_loss: 2.1757 - val_acc: 0.9002\n",
            "Epoch 24/30\n",
            "100/100 [==============================] - 50s 504ms/step - loss: 1.6439 - acc: 0.9020 - val_loss: 2.2035 - val_acc: 0.8995\n",
            "Epoch 25/30\n",
            "100/100 [==============================] - 51s 508ms/step - loss: 1.6231 - acc: 0.9028 - val_loss: 2.1866 - val_acc: 0.8988\n",
            "Epoch 26/30\n",
            "100/100 [==============================] - 50s 506ms/step - loss: 1.5878 - acc: 0.9037 - val_loss: 2.1756 - val_acc: 0.8995\n",
            "Epoch 27/30\n",
            "100/100 [==============================] - 51s 507ms/step - loss: 1.5722 - acc: 0.9046 - val_loss: 2.1485 - val_acc: 0.8996\n",
            "Epoch 28/30\n",
            "100/100 [==============================] - 51s 511ms/step - loss: 1.5339 - acc: 0.9051 - val_loss: 2.1376 - val_acc: 0.8997\n",
            "Epoch 29/30\n",
            "100/100 [==============================] - 51s 509ms/step - loss: 1.5311 - acc: 0.9052 - val_loss: 2.2138 - val_acc: 0.8985\n",
            "Epoch 30/30\n",
            "100/100 [==============================] - 51s 507ms/step - loss: 1.4816 - acc: 0.9059 - val_loss: 2.1738 - val_acc: 0.8987\n"
          ],
          "name": "stdout"
        }
      ]
    },
    {
      "cell_type": "code",
      "metadata": {
        "id": "tgFhwqfp-_qZ",
        "colab": {
          "base_uri": "https://localhost:8080/",
          "height": 544
        },
        "outputId": "5896500c-236d-4549-ffba-3e0346a75e14"
      },
      "source": [
        "#Plotting the results\r\n",
        "import matplotlib.pyplot as plt\r\n",
        "acc = history.history['acc']\r\n",
        "val_acc = history.history['val_acc']\r\n",
        "loss = history.history['loss']\r\n",
        "val_loss = history.history['val_loss']\r\n",
        "epochs = range(1, len(acc) + 1)\r\n",
        "plt.plot(epochs, acc, 'bo', label='Training acc')\r\n",
        "plt.plot(epochs, val_acc, 'b', label='Validation acc')\r\n",
        "plt.title('Training and validation accuracy')\r\n",
        "plt.legend()\r\n",
        "plt.figure()\r\n",
        "plt.plot(epochs, loss, 'bo', label='Training loss')\r\n",
        "plt.plot(epochs, val_loss, 'b', label='Validation loss')\r\n",
        "plt.title('Training and validation loss')\r\n",
        "plt.legend()\r\n",
        "plt.show()\r\n"
      ],
      "execution_count": 13,
      "outputs": [
        {
          "output_type": "display_data",
          "data": {
            "image/png": "[encoded data removed]",
            "text/plain": [
              "<Figure size 432x288 with 1 Axes>"
            ]
          },
          "metadata": {
            "tags": [],
            "needs_background": "light"
          }
        },
        {
          "output_type": "display_data",
          "data": {
            "image/png": "[encoded data removed]",
            "text/plain": [
              "<Figure size 432x288 with 1 Axes>"
            ]
          },
          "metadata": {
            "tags": [],
            "needs_background": "light"
          }
        }
      ]
    }
  ]
}